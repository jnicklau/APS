{
 "cells": [
  {
   "cell_type": "code",
   "execution_count": 1,
   "id": "e8db698b-6d01-4475-ab0e-c529f1355838",
   "metadata": {},
   "outputs": [],
   "source": [
    "from sklearn.linear_model import LinearRegression\n",
    "import numpy as np"
   ]
  },
  {
   "cell_type": "code",
   "execution_count": 12,
   "id": "b085cad8-ff9a-4c9b-acc4-94f60cbb14f6",
   "metadata": {
    "scrolled": true
   },
   "outputs": [
    {
     "name": "stdout",
     "output_type": "stream",
     "text": [
      "[[0.60652641 0.87713316 0.01809745]\n",
      " [0.77128476 0.48677166 0.84045714]\n",
      " [0.55355014 0.20007703 0.47213015]\n",
      " [0.75724556 0.72003374 0.21617193]\n",
      " [0.79981047 0.53586704 0.72423097]\n",
      " [0.16118607 0.49266138 0.10612929]\n",
      " [0.1856597  0.91982824 0.05375123]\n",
      " [0.19039692 0.79624222 0.2771553 ]]\n",
      "[[0.46718282 0.22368799 0.62843864]\n",
      " [0.58869299 0.2676324  0.62470403]\n",
      " [0.01862454 0.12071617 0.56360787]\n",
      " [0.27805596 0.85799651 0.91495249]\n",
      " [0.2686497  0.16795236 0.84420132]\n",
      " [0.26057977 0.89689616 0.75417201]\n",
      " [0.27615775 0.90836313 0.61585558]\n",
      " [0.59297745 0.56637545 0.30865527]]\n",
      "[0.20856874 0.01767942 0.33227079 0.71244951 0.72527704 0.56708408\n",
      " 0.48309799 0.95340377]\n"
     ]
    }
   ],
   "source": [
    "# Example time series data\n",
    "timesteps = 8\n",
    "\n",
    "x1_t = np.random.rand(timesteps, 3)  # Feature vector x1 at different time steps\n",
    "x2_t = np.random.rand(timesteps, 3)  # Feature vector x2 at different time steps\n",
    "p_t = np.random.rand(timesteps)      # Target variable p at different time steps\n",
    "print(x1_t)\n",
    "print(x2_t)\n",
    "print(p_t)"
   ]
  },
  {
   "cell_type": "code",
   "execution_count": 10,
   "id": "9b360ba6-ca55-41ac-bf2d-d1a6ce6fb059",
   "metadata": {
    "scrolled": true
   },
   "outputs": [
    {
     "name": "stdout",
     "output_type": "stream",
     "text": [
      "[[0.21283497 0.19902086 0.47715372]\n",
      " [0.18572152 0.19083905 0.60252901]\n",
      " [0.84344928 0.97877003 0.53963702]\n",
      " [0.11604337 0.72003353 0.49285831]\n",
      " [0.98037534 0.38410408 0.30280346]\n",
      " [0.63825163 0.46622108 0.02602073]\n",
      " [0.56662914 0.85569055 0.10001783]\n",
      " [0.2111958  0.66253748 0.03053206]]\n",
      "[[0.88219775 0.85312448 0.14200852]\n",
      " [0.76332352 0.22945133 0.39712223]\n",
      " [0.4021975  0.44297272 0.63223735]\n",
      " [0.5317674  0.00657376 0.77876455]\n",
      " [0.17875945 0.38142633 0.14798784]\n",
      " [0.38421748 0.30527982 0.618411  ]\n",
      " [0.38541418 0.47424206 0.19971553]\n",
      " [0.10562133 0.87867489 0.92245965]]\n",
      "[0.39737122 0.24809011 0.10973267 0.4123918  0.65154987 0.79625047\n",
      " 0.51265298 0.90253068]\n"
     ]
    }
   ],
   "source": [
    "# Reshape x1_t and x2_t to have dimensions (timesteps, features)\n",
    "x1_t = x1_t.reshape(timesteps, -1)\n",
    "x2_t = x2_t.reshape(timesteps, -1)\n",
    "print(x1_t)\n",
    "print(x2_t)\n",
    "print(p_t)"
   ]
  },
  {
   "cell_type": "code",
   "execution_count": 13,
   "id": "6bb1af31-651a-454b-89ad-2cbe39c6a6b5",
   "metadata": {},
   "outputs": [
    {
     "name": "stdout",
     "output_type": "stream",
     "text": [
      "[[0.60652641 0.87713316 0.01809745 0.46718282 0.22368799 0.62843864]\n",
      " [0.77128476 0.48677166 0.84045714 0.58869299 0.2676324  0.62470403]\n",
      " [0.55355014 0.20007703 0.47213015 0.01862454 0.12071617 0.56360787]\n",
      " [0.75724556 0.72003374 0.21617193 0.27805596 0.85799651 0.91495249]\n",
      " [0.79981047 0.53586704 0.72423097 0.2686497  0.16795236 0.84420132]\n",
      " [0.16118607 0.49266138 0.10612929 0.26057977 0.89689616 0.75417201]\n",
      " [0.1856597  0.91982824 0.05375123 0.27615775 0.90836313 0.61585558]\n",
      " [0.19039692 0.79624222 0.2771553  0.59297745 0.56637545 0.30865527]]\n"
     ]
    }
   ],
   "source": [
    "# Concatenate x1_t and x2_t to create a feature matrix X_t\n",
    "X_t = np.concatenate((x1_t, x2_t), axis=1)\n",
    "print(X_t)"
   ]
  },
  {
   "cell_type": "code",
   "execution_count": 14,
   "id": "3d9059e2-fa26-4716-90a6-55191b6d27ff",
   "metadata": {},
   "outputs": [],
   "source": [
    "# Step 1: Create and train the linear regression model\n",
    "model = LinearRegression()\n",
    "model.fit(X_t, p_t)\n",
    "\n",
    "# Step 2: Predict the target variable p_t for new time steps\n",
    "# For example, let's use the same x1_t and x2_t for illustration\n",
    "new_timesteps = 4\n",
    "new_x1_t = np.random.rand(new_timesteps, 3)\n",
    "new_x2_t = np.random.rand(new_timesteps, 3)\n",
    "print(new_x1_t)\n",
    "print(new_x2_t)"
   ]
  },
  {
   "cell_type": "code",
   "execution_count": null,
   "id": "0f34ada1-a6ed-419b-818c-46082287ab46",
   "metadata": {},
   "outputs": [],
   "source": [
    "# Reshape new_x1_t and new_x2_t\n",
    "new_x1_t = new_x1_t.reshape(new_timesteps, -1)\n",
    "new_x2_t = new_x2_t.reshape(new_timesteps, -1)"
   ]
  },
  {
   "cell_type": "code",
   "execution_count": null,
   "id": "8ebe24bf-59bc-4315-a6aa-7c913869f285",
   "metadata": {},
   "outputs": [],
   "source": [
    "# Concatenate new_x1_t and new_x2_t to create a new feature matrix new_X_t\n",
    "new_X_t = np.concatenate((new_x1_t, new_x2_t), axis=1)"
   ]
  },
  {
   "cell_type": "code",
   "execution_count": null,
   "id": "466bbbf2-3719-4ce1-ac8c-b4bb1ba3b234",
   "metadata": {},
   "outputs": [],
   "source": [
    "# Predict the target variable p_t for the new time steps\n",
    "predicted_p_t = model.predict(new_X_t)"
   ]
  },
  {
   "cell_type": "code",
   "execution_count": null,
   "id": "980e36ec-fbeb-448e-aa31-08445c4dac9a",
   "metadata": {},
   "outputs": [],
   "source": [
    "# Example print statements\n",
    "print(\"Predicted Function Values for New Time Steps:\")\n",
    "print(predicted_p_t)"
   ]
  }
 ],
 "metadata": {
  "kernelspec": {
   "display_name": "Python 3 (ipykernel)",
   "language": "python",
   "name": "python3"
  },
  "language_info": {
   "codemirror_mode": {
    "name": "ipython",
    "version": 3
   },
   "file_extension": ".py",
   "mimetype": "text/x-python",
   "name": "python",
   "nbconvert_exporter": "python",
   "pygments_lexer": "ipython3",
   "version": "3.12.0"
  }
 },
 "nbformat": 4,
 "nbformat_minor": 5
}
