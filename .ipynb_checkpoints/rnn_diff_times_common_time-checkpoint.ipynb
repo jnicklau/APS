{
 "cells": [
  {
   "cell_type": "code",
   "execution_count": 1,
   "id": "6e21f267-cec7-43c7-850c-8afbeb646795",
   "metadata": {},
   "outputs": [
    {
     "name": "stdout",
     "output_type": "stream",
     "text": [
      "WARNING:tensorflow:From C:\\Users\\jnicklau\\AppData\\Local\\miniforge3\\envs\\test_rnn_tf\\lib\\site-packages\\keras\\src\\losses.py:2976: The name tf.losses.sparse_softmax_cross_entropy is deprecated. Please use tf.compat.v1.losses.sparse_softmax_cross_entropy instead.\n",
      "\n"
     ]
    }
   ],
   "source": [
    "import pandas as pd\n",
    "import numpy as np\n",
    "import tensorflow as tf\n",
    "from tensorflow.keras.models import Sequential\n",
    "from tensorflow.keras.layers import SimpleRNN, Dense"
   ]
  },
  {
   "cell_type": "code",
   "execution_count": 32,
   "id": "a1ad2344-edcb-4e33-9402-0ebd47f40d85",
   "metadata": {},
   "outputs": [
    {
     "name": "stdout",
     "output_type": "stream",
     "text": [
      "time_x:\n",
      "10\n",
      "[0.5808361216819946, 1.5599452033620265, 1.5601864044243652, 3.745401188473625, 5.986584841970366, 6.011150117432088, 7.080725777960454, 7.319939418114051, 8.661761457749352, 9.50714306409916]\n",
      "\n",
      "time_y:\n",
      "10\n",
      "[2.2058449429580245, 3.818249672071006, 3.834045098534338, 4.123391106782762, 4.912291401980419, 5.042422429595377, 6.319450186421157, 7.247564316322379, 10.324426408004218, 11.699098521619943]\n",
      "\n",
      "x:\n",
      "10\n",
      "[ 0.44744002  1.03136586  0.90914131 -0.70901206 -0.14570593 -0.29126997\n",
      "  0.72239317  0.71828173  0.63666651 -0.07117975]\n",
      "\n",
      "y:\n",
      "10\n",
      "[-0.70831601 -0.74210061 -0.82974649 -0.58469741  0.13840304  0.50930249\n",
      "  0.99799278  0.46415616 -0.53963082  0.5248248 ]\n"
     ]
    }
   ],
   "source": [
    "# Generate sample irregular time series data\n",
    "np.random.seed(42)\n",
    "n_samples = 10\n",
    "intervall = 0.1\n",
    "time_x = sorted(np.random.uniform(0, 10, n_samples))\n",
    "time_y = sorted(np.random.uniform(2, 12, n_samples))\n",
    "print('time_x:')\n",
    "print(len(time_x))\n",
    "print(time_x)\n",
    "print('\\ntime_y:')\n",
    "print(len(time_y))\n",
    "print(time_y)\n",
    "x = np.sin(time_x) + np.random.normal(0, intervall, n_samples)\n",
    "y = np.cos(time_y) + np.random.normal(0, intervall, n_samples)\n",
    "print('\\nx:')\n",
    "print(len(x))\n",
    "print(x)\n",
    "print('\\ny:')\n",
    "print(len(y))\n",
    "print(y)"
   ]
  },
  {
   "cell_type": "code",
   "execution_count": 33,
   "id": "50f31bc5-3a40-4b69-a1ca-28ad3f57b236",
   "metadata": {},
   "outputs": [
    {
     "name": "stdout",
     "output_type": "stream",
     "text": [
      "       time         x\n",
      "0  0.580836  0.447440\n",
      "1  1.559945  1.031366\n",
      "2  1.560186  0.909141\n",
      "       time         x\n",
      "7  7.319939  0.718282\n",
      "8  8.661761  0.636667\n",
      "9  9.507143 -0.071180\n",
      "       time         y\n",
      "0  2.205845 -0.708316\n",
      "1  3.818250 -0.742101\n",
      "2  3.834045 -0.829746\n",
      "        time         y\n",
      "7   7.247564  0.464156\n",
      "8  10.324426 -0.539631\n",
      "9  11.699099  0.524825\n"
     ]
    }
   ],
   "source": [
    "# Create Pandas DataFrames\n",
    "df_x = pd.DataFrame({'time': time_x, 'x': x})\n",
    "df_y = pd.DataFrame({'time': time_y, 'y': y})\n",
    "for df in [df_x,df_y]:\n",
    "    print(df.head(3))\n",
    "    print(df.tail(3))"
   ]
  },
  {
   "cell_type": "code",
   "execution_count": 84,
   "id": "3594d1b2-8e89-4884-8fe3-7658621ec883",
   "metadata": {},
   "outputs": [
    {
     "name": "stdout",
     "output_type": "stream",
     "text": [
      "[ 0.68083612  1.08083612  1.48083612  1.88083612  2.28083612  2.68083612\n",
      "  3.08083612  3.48083612  3.88083612  4.28083612  4.68083612  5.08083612\n",
      "  5.48083612  5.88083612  6.28083612  6.68083612  7.08083612  7.48083612\n",
      "  7.88083612  8.28083612  8.68083612  9.08083612  9.48083612  9.88083612\n",
      " 10.28083612 10.68083612 11.08083612 11.48083612]\n"
     ]
    }
   ],
   "source": [
    "# Merge on time and interpolate to align on a common time grid\n",
    "common_time = np.arange(min(df_x['time'].min(), df_y['time'].min()),\n",
    "                       max(df_x['time'].max(), df_y['time'].max()), intervall)\n",
    "print(common_time[1::4])"
   ]
  },
  {
   "cell_type": "code",
   "execution_count": 137,
   "id": "1fa77a92-517e-4ef0-981e-6144b8b8c1e8",
   "metadata": {},
   "outputs": [
    {
     "name": "stdout",
     "output_type": "stream",
     "text": [
      "       time         x\n",
      "0  0.580836  0.447440\n",
      "1  0.680836  1.031366\n",
      "2  0.780836  1.031366\n",
      "       time        x\n",
      "0  0.580836  0.44744\n",
      "1  0.680836  0.44744\n",
      "2  0.780836  0.44744\n",
      "                x\n",
      "time             \n",
      "0.580836  0.44744\n",
      "0.680836  0.44744\n",
      "0.780836  0.44744\n",
      "                x\n",
      "time             \n",
      "0.580836  0.44744\n",
      "0.680836  0.44744\n",
      "0.780836  0.44744\n",
      "\n",
      "\n",
      "\n",
      "       time         x\n",
      "0  0.580836  0.447440\n",
      "1  0.680836  1.031366\n",
      "2  0.780836  1.031366\n",
      "3  0.880836  1.031366\n",
      "4  0.980836  1.031366\n",
      "          time        x\n",
      "109  11.480836 -0.07118\n",
      "110  11.580836 -0.07118\n",
      "111  11.680836 -0.07118\n",
      "\n",
      "\n",
      "\n",
      "       time         y\n",
      "0  0.580836 -0.708316\n",
      "1  0.680836 -0.708316\n",
      "2  0.780836 -0.708316\n",
      "3  0.880836 -0.708316\n",
      "4  0.980836 -0.708316\n",
      "          time         y\n",
      "109  11.480836  0.524825\n",
      "110  11.580836  0.524825\n",
      "111  11.680836  0.524825\n"
     ]
    }
   ],
   "source": [
    "df_x_interp = pd.DataFrame({'time': common_time})\n",
    "df_x_interp = pd.merge_asof(df_x_interp, df_x, on='time', direction='forward').interpolate(method='linear')\n",
    "#-------------------------------------------------------------------------------\n",
    "print(df_x_interp.head(3))\n",
    "ndfi = pd.DataFrame({'time': common_time})\n",
    "ndfi = pd.merge_asof(ndfi, df_x, on='time', direction='nearest')\n",
    "print(ndfi.head(3))\n",
    "ndfi = ndfi.set_index('time')\n",
    "print(ndfi.head(3))\n",
    "ndfi = ndfi.interpolate(method='index')\n",
    "print(ndfi.head(3))\n",
    "\n",
    "\n",
    "df_y_interp = pd.DataFrame({'time': common_time})\n",
    "df_y_interp = pd.merge_asof(df_y_interp, df_y, on='time', direction='nearest').interpolate(method='linear')\n",
    "for df in [df_x_interp,df_y_interp]:\n",
    "    print('\\n\\n')\n",
    "    print(df.head(5))\n",
    "    print(df.tail(3))"
   ]
  },
  {
   "cell_type": "code",
   "execution_count": 42,
   "id": "61c8ad93-4e08-48f1-9c27-65ded285eb12",
   "metadata": {},
   "outputs": [
    {
     "name": "stdout",
     "output_type": "stream",
     "text": [
      "          x\n",
      "time       \n",
      "0.580836  1\n",
      "0.680836  1\n",
      "0.780836  1\n",
      "0.880836  1\n",
      "0.980836  1\n",
      "           time\n",
      "x              \n",
      "-0.709012    22\n",
      "-0.291270     5\n",
      "-0.145706    12\n",
      "-0.071180    26\n",
      " 0.447440     5\n"
     ]
    }
   ],
   "source": [
    "print(df_x_interp.groupby('time').count().head(5))\n",
    "print(df_x_interp.groupby('x').count().head(5))\n"
   ]
  },
  {
   "cell_type": "code",
   "execution_count": 62,
   "id": "fb21c2d4-a61f-4f30-8f11-18e2b7f49c7d",
   "metadata": {},
   "outputs": [
    {
     "name": "stdout",
     "output_type": "stream",
     "text": [
      "112\n",
      "112\n"
     ]
    }
   ],
   "source": [
    "# Extract the interpolated time series\n",
    "X_interp = df_x_interp['x'].values.reshape(-1, 1)\n",
    "y_interp = df_y_interp['y'].values\n",
    "print(len(X_interp))\n",
    "print(len(y_interp))"
   ]
  },
  {
   "cell_type": "code",
   "execution_count": 63,
   "id": "b9f98836-30a4-4210-9386-2caeef34e82a",
   "metadata": {},
   "outputs": [],
   "source": [
    "# Build the RNN model\n",
    "model = Sequential()\n",
    "model.add(SimpleRNN(units=50, activation='relu', input_shape=(None, 1)))\n",
    "model.add(Dense(units=1))\n",
    "\n",
    "model.compile(optimizer='adam', loss='mean_squared_error')"
   ]
  },
  {
   "cell_type": "code",
   "execution_count": 72,
   "id": "f77cd268-3438-43a1-8d2a-c72407c93839",
   "metadata": {},
   "outputs": [
    {
     "name": "stdout",
     "output_type": "stream",
     "text": [
      "(112, 1)\n",
      "(1, 112, 1)\n",
      "(112, 1)\n",
      "(1, 112, 1)\n"
     ]
    }
   ],
   "source": [
    "print(np.shape(X_interp))\n",
    "print(np.shape(y_interp.reshape(1, -1, 1)))\n",
    "print(np.shape(X_interp))\n",
    "print(np.shape(y_interp.reshape(1, -1, 1)))\n"
   ]
  },
  {
   "cell_type": "code",
   "execution_count": 78,
   "id": "c85744db-8b0f-4cf1-8c5a-789f732cd04f",
   "metadata": {},
   "outputs": [
    {
     "name": "stdout",
     "output_type": "stream",
     "text": [
      "Epoch 1/10\n",
      "4/4 [==============================] - 0s 4ms/step - loss: 0.3280\n",
      "Epoch 2/10\n",
      "4/4 [==============================] - 0s 1ms/step - loss: 0.3278\n",
      "Epoch 3/10\n",
      "4/4 [==============================] - 0s 3ms/step - loss: 0.3277\n",
      "Epoch 4/10\n",
      "4/4 [==============================] - 0s 866us/step - loss: 0.3275\n",
      "Epoch 5/10\n",
      "4/4 [==============================] - 0s 3ms/step - loss: 0.3274\n",
      "Epoch 6/10\n",
      "4/4 [==============================] - 0s 0s/step - loss: 0.3273\n",
      "Epoch 7/10\n",
      "4/4 [==============================] - 0s 2ms/step - loss: 0.3272\n",
      "Epoch 8/10\n",
      "4/4 [==============================] - 0s 4ms/step - loss: 0.3271\n",
      "Epoch 9/10\n",
      "4/4 [==============================] - 0s 3ms/step - loss: 0.3269\n",
      "Epoch 10/10\n",
      "4/4 [==============================] - 0s 5ms/step - loss: 0.3269\n"
     ]
    },
    {
     "data": {
      "text/plain": [
       "<keras.src.callbacks.History at 0x1dd22e890c0>"
      ]
     },
     "execution_count": 78,
     "metadata": {},
     "output_type": "execute_result"
    }
   ],
   "source": [
    "# Train the model\n",
    "model.fit(X_interp, y_interp, epochs=10, batch_size=32)"
   ]
  },
  {
   "cell_type": "code",
   "execution_count": 88,
   "id": "def8fe15-0b64-471e-a816-27eb1a08ea6c",
   "metadata": {},
   "outputs": [
    {
     "name": "stdout",
     "output_type": "stream",
     "text": [
      "1/1 [==============================] - 0s 32ms/step\n",
      "4/4 [==============================] - 0s 3ms/step - loss: 0.3267\n"
     ]
    }
   ],
   "source": [
    "# Make predictions\n",
    "predictions = model.predict(X_interp.reshape(1, -1, 1))\n",
    "\n",
    "# Evaluate the model (optional)\n",
    "loss = model.evaluate(X_interp, y_interp)"
   ]
  },
  {
   "cell_type": "code",
   "execution_count": 89,
   "id": "1c89c6b8-4b14-412c-9ad8-dd065012f7fa",
   "metadata": {},
   "outputs": [
    {
     "name": "stdout",
     "output_type": "stream",
     "text": [
      "Mean Squared Error on Training Data: 0.32671070098876953\n"
     ]
    }
   ],
   "source": [
    "print(f\"Mean Squared Error on Training Data: {loss}\")"
   ]
  },
  {
   "cell_type": "markdown",
   "id": "d8a36626-3200-4a94-817c-4bb479f6fafe",
   "metadata": {},
   "source": [
    "## end examples"
   ]
  },
  {
   "cell_type": "code",
   "execution_count": 130,
   "id": "8ac5b64e-7b98-43d0-9c86-a1911cc45cbc",
   "metadata": {},
   "outputs": [
    {
     "name": "stdout",
     "output_type": "stream",
     "text": [
      "Original DataFrame:\n",
      "   value\n",
      "0    1.0\n",
      "1    2.0\n",
      "3    NaN\n",
      "4    NaN\n",
      "6    5.0\n",
      "7    6.0\n",
      "\n",
      "DataFrame after interpolation:\n",
      "   value\n",
      "0    1.0\n",
      "1    2.0\n",
      "3    3.2\n",
      "4    3.8\n",
      "6    5.0\n",
      "7    6.0\n"
     ]
    }
   ],
   "source": [
    "# Create a sample DataFrame with missing values\n",
    "data = {'value': [1, 2, None, None, 5, 6]}\n",
    "index_values = [0, 1, 3, 4, 6, 7]\n",
    "df = pd.DataFrame(data, index=index_values)\n",
    "\n",
    "# Display the original DataFrame\n",
    "print(\"Original DataFrame:\")\n",
    "print(df)\n",
    "\n",
    "# Interpolate missing values based on the index\n",
    "df_interpolated = df.interpolate(method='index')\n",
    "\n",
    "# Display the DataFrame after interpolation\n",
    "print(\"\\nDataFrame after interpolation:\")\n",
    "print(df_interpolated)"
   ]
  },
  {
   "cell_type": "code",
   "execution_count": 198,
   "id": "44028cfe-4ce6-4613-a1c4-36bef53fc528",
   "metadata": {},
   "outputs": [],
   "source": [
    "# Generate sample irregular time series data\n",
    "np.random.seed(42)\n",
    "n_samples = 8\n",
    "# Create two DataFrames with irregular time indices\n",
    "df_x = pd.DataFrame({'x': np.sin(np.random.uniform(0, 10, n_samples)) + np.random.normal(0, 0.1, n_samples)},\n",
    "                    index=pd.to_datetime(np.sort(np.random.choice(pd.date_range('2023-01-01', '2023-01-10', freq='H'), n_samples))))\n",
    "\n",
    "df_y = pd.DataFrame({'y': np.cos(np.random.uniform(2, 12, n_samples)) + np.random.normal(0, 0.1, n_samples)},\n",
    "                    index=pd.to_datetime(np.sort(np.random.choice(pd.date_range('2023-01-03', '2023-01-12', freq='H'), n_samples))))"
   ]
  },
  {
   "cell_type": "code",
   "execution_count": 199,
   "id": "627adb08-8fa4-4a8e-851a-c5edc25d8f60",
   "metadata": {},
   "outputs": [
    {
     "name": "stdout",
     "output_type": "stream",
     "text": [
      "                            x\n",
      "2023-01-01 14:00:00 -0.409860\n",
      "2023-01-03 00:00:00 -0.005529\n",
      "2023-01-03 10:00:00  0.813809\n",
      "2023-01-04 16:00:00 -0.238015\n",
      "2023-01-08 01:00:00  0.953602\n",
      "2023-01-08 19:00:00  0.953368\n",
      "2023-01-08 21:00:00  0.572919\n",
      "2023-01-09 15:00:00  0.499777\n",
      "                            y\n",
      "2023-01-03 01:00:00 -1.175063\n",
      "2023-01-03 03:00:00 -0.211986\n",
      "2023-01-05 01:00:00  0.974608\n",
      "2023-01-05 05:00:00  0.632350\n",
      "2023-01-07 07:00:00  1.040030\n",
      "2023-01-07 09:00:00 -0.348576\n",
      "2023-01-08 11:00:00 -0.851535\n",
      "2023-01-08 13:00:00  0.859624\n"
     ]
    },
    {
     "data": {
      "text/html": [
       "<div>\n",
       "<style scoped>\n",
       "    .dataframe tbody tr th:only-of-type {\n",
       "        vertical-align: middle;\n",
       "    }\n",
       "\n",
       "    .dataframe tbody tr th {\n",
       "        vertical-align: top;\n",
       "    }\n",
       "\n",
       "    .dataframe thead th {\n",
       "        text-align: right;\n",
       "    }\n",
       "</style>\n",
       "<table border=\"1\" class=\"dataframe\">\n",
       "  <thead>\n",
       "    <tr style=\"text-align: right;\">\n",
       "      <th></th>\n",
       "      <th>x</th>\n",
       "    </tr>\n",
       "  </thead>\n",
       "  <tbody>\n",
       "  </tbody>\n",
       "</table>\n",
       "</div>"
      ],
      "text/plain": [
       "Empty DataFrame\n",
       "Columns: [x]\n",
       "Index: []"
      ]
     },
     "execution_count": 199,
     "metadata": {},
     "output_type": "execute_result"
    }
   ],
   "source": [
    "print(df_x.head(8))\n",
    "print(df_y.head(8))\n",
    "df_x[df_x.index.duplicated()]"
   ]
  },
  {
   "cell_type": "code",
   "execution_count": 181,
   "id": "600726bf-7269-47b2-a40d-1046fa3188a6",
   "metadata": {},
   "outputs": [],
   "source": [
    "# Resample both DataFrames to a common index\n",
    "common_index = pd.date_range(start=min(df_x.index.min(), df_y.index.min()),\n",
    "                             end=max(df_x.index.max(), df_y.index.max()), freq='H')"
   ]
  },
  {
   "cell_type": "code",
   "execution_count": 182,
   "id": "8b2799df-adc7-47d4-a410-13debce0f170",
   "metadata": {},
   "outputs": [
    {
     "name": "stdout",
     "output_type": "stream",
     "text": [
      "DatetimeIndex(['2023-01-01 14:00:00', '2023-01-01 15:00:00',\n",
      "               '2023-01-01 16:00:00', '2023-01-01 17:00:00',\n",
      "               '2023-01-01 18:00:00', '2023-01-01 19:00:00',\n",
      "               '2023-01-01 20:00:00', '2023-01-01 21:00:00',\n",
      "               '2023-01-01 22:00:00', '2023-01-01 23:00:00',\n",
      "               ...\n",
      "               '2023-01-09 06:00:00', '2023-01-09 07:00:00',\n",
      "               '2023-01-09 08:00:00', '2023-01-09 09:00:00',\n",
      "               '2023-01-09 10:00:00', '2023-01-09 11:00:00',\n",
      "               '2023-01-09 12:00:00', '2023-01-09 13:00:00',\n",
      "               '2023-01-09 14:00:00', '2023-01-09 15:00:00'],\n",
      "              dtype='datetime64[ns]', length=194, freq='H')\n"
     ]
    }
   ],
   "source": [
    "print(common_index)"
   ]
  },
  {
   "cell_type": "code",
   "execution_count": 183,
   "id": "7acfa607-61aa-430f-b8a5-09fcf5737a05",
   "metadata": {},
   "outputs": [],
   "source": [
    "df_x_resampled = df_x.reindex(common_index)\n",
    "df_y_resampled = df_y.reindex(common_index)"
   ]
  },
  {
   "cell_type": "code",
   "execution_count": 185,
   "id": "1ad52831-ce08-4c99-a6b2-4c451b20a7f0",
   "metadata": {},
   "outputs": [
    {
     "name": "stdout",
     "output_type": "stream",
     "text": [
      "                           x\n",
      "2023-01-01 14:00:00 -0.40986\n",
      "2023-01-01 15:00:00      NaN\n",
      "2023-01-01 16:00:00      NaN\n",
      "2023-01-01 17:00:00      NaN\n",
      "                      y\n",
      "2023-01-01 14:00:00 NaN\n",
      "2023-01-01 15:00:00 NaN\n",
      "2023-01-01 16:00:00 NaN\n",
      "2023-01-01 17:00:00 NaN\n"
     ]
    }
   ],
   "source": [
    "print(df_x_resampled.head(4))\n",
    "print(df_y_resampled.head(4))"
   ]
  },
  {
   "cell_type": "code",
   "execution_count": 196,
   "id": "d833a8dd-2251-4065-97a7-cbf380fa9843",
   "metadata": {},
   "outputs": [],
   "source": [
    "df_x_interpolated = df_x_resampled.interpolate(method='index')\n",
    "df_y_interpolated = df_y_resampled.interpolate(method='index')"
   ]
  },
  {
   "cell_type": "code",
   "execution_count": 195,
   "id": "24cb5ea5-b418-4a5b-b9ca-62ef7dba7bd8",
   "metadata": {},
   "outputs": [
    {
     "name": "stdout",
     "output_type": "stream",
     "text": [
      "                            x\n",
      "2023-01-01 14:00:00 -0.409860\n",
      "2023-01-01 15:00:00 -0.397968\n",
      "2023-01-01 16:00:00 -0.386076\n",
      "2023-01-01 17:00:00 -0.374184\n",
      "2023-01-01 18:00:00 -0.362292\n",
      "...                       ...\n",
      "2023-01-09 11:00:00  0.516031\n",
      "2023-01-09 12:00:00  0.511967\n",
      "2023-01-09 13:00:00  0.507904\n",
      "2023-01-09 14:00:00  0.503840\n",
      "2023-01-09 15:00:00  0.499777\n",
      "\n",
      "[194 rows x 1 columns]\n"
     ]
    }
   ],
   "source": [
    "print(df_x_interpolated)"
   ]
  },
  {
   "cell_type": "code",
   "execution_count": 203,
   "id": "9936cb93-1bc8-46cc-b868-235d3be08228",
   "metadata": {},
   "outputs": [
    {
     "data": {
      "image/png": "[encoded data removed]",
      "text/plain": [
       "<Figure size 640x480 with 1 Axes>"
      ]
     },
     "metadata": {},
     "output_type": "display_data"
    }
   ],
   "source": [
    "# Plot the original and interpolated time series\n",
    "import matplotlib.pyplot as plt\n",
    "\n",
    "plt.plot(df_x.index, df_x['x'], label='Original x')\n",
    "plt.plot(df_y.index, df_y['y'], label='Original y')\n",
    "plt.plot(df_x_interpolated.index, df_x_interpolated['x'], 'x', label='Interpolated x')\n",
    "plt.plot(df_y_interpolated.index, df_y_interpolated['y'], 'x', label='Interpolated y')\n",
    "plt.legend()\n",
    "plt.show()"
   ]
  },
  {
   "cell_type": "code",
   "execution_count": 6,
   "id": "35d2e899-f929-4577-be47-fcdfad7438b1",
   "metadata": {},
   "outputs": [
    {
     "data": {
      "text/html": [
       "<div>\n",
       "<style scoped>\n",
       "    .dataframe tbody tr th:only-of-type {\n",
       "        vertical-align: middle;\n",
       "    }\n",
       "\n",
       "    .dataframe tbody tr th {\n",
       "        vertical-align: top;\n",
       "    }\n",
       "\n",
       "    .dataframe thead th {\n",
       "        text-align: right;\n",
       "    }\n",
       "</style>\n",
       "<table border=\"1\" class=\"dataframe\">\n",
       "  <thead>\n",
       "    <tr style=\"text-align: right;\">\n",
       "      <th></th>\n",
       "      <th>value</th>\n",
       "    </tr>\n",
       "  </thead>\n",
       "  <tbody>\n",
       "    <tr>\n",
       "      <th>1</th>\n",
       "      <td>NaN</td>\n",
       "    </tr>\n",
       "    <tr>\n",
       "      <th>2</th>\n",
       "      <td>NaN</td>\n",
       "    </tr>\n",
       "    <tr>\n",
       "      <th>3</th>\n",
       "      <td>5.0</td>\n",
       "    </tr>\n",
       "    <tr>\n",
       "      <th>4</th>\n",
       "      <td>6.0</td>\n",
       "    </tr>\n",
       "    <tr>\n",
       "      <th>5</th>\n",
       "      <td>7.0</td>\n",
       "    </tr>\n",
       "  </tbody>\n",
       "</table>\n",
       "</div>"
      ],
      "text/plain": [
       "   value\n",
       "1    NaN\n",
       "2    NaN\n",
       "3    5.0\n",
       "4    6.0\n",
       "5    7.0"
      ]
     },
     "execution_count": 6,
     "metadata": {},
     "output_type": "execute_result"
    }
   ],
   "source": [
    "# Create a sample DataFrame with missing values\n",
    "data = {'value': [None, None, 5, 6, 7]}\n",
    "index_values = [ 1,2,3,4,5]\n",
    "mydf = pd.DataFrame(data, index=index_values)\n",
    "mydf"
   ]
  },
  {
   "cell_type": "code",
   "execution_count": null,
   "id": "be58bb59-4044-4315-a2f2-16d446c6d63b",
   "metadata": {},
   "outputs": [],
   "source": [
    "mydf.interpolate(method='linear')"
   ]
  }
 ],
 "metadata": {
  "kernelspec": {
   "display_name": "Python 3 (ipykernel)",
   "language": "python",
   "name": "python3"
  },
  "language_info": {
   "codemirror_mode": {
    "name": "ipython",
    "version": 3
   },
   "file_extension": ".py",
   "mimetype": "text/x-python",
   "name": "python",
   "nbconvert_exporter": "python",
   "pygments_lexer": "ipython3",
   "version": "3.10.13"
  }
 },
 "nbformat": 4,
 "nbformat_minor": 5
}
