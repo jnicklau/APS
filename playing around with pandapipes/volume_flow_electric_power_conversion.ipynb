{
 "cells": [
  {
   "cell_type": "code",
   "execution_count": 1,
   "id": "b149bffb-c8cc-4b6c-86a6-d39dc0a82466",
   "metadata": {},
   "outputs": [],
   "source": [
    "def etacalc(P,Vdot,p):\n",
    "    '''\n",
    "    takes values in kW, cm/min, bar\n",
    "    '''\n",
    "    return Vdot/60*((p-1)*10000)/(P*1000)"
   ]
  },
  {
   "cell_type": "code",
   "execution_count": 6,
   "id": "b2fdfc26-7cb2-4f8d-8b96-ba25b8ebee50",
   "metadata": {},
   "outputs": [
    {
     "name": "stdout",
     "output_type": "stream",
     "text": [
      "[57, 175, 95, 250, 57, 189] [9.2, 28, 9.5, 47.6, 9.2, 27.3] [7, 7, 7, 7, 7, 7]\n"
     ]
    }
   ],
   "source": [
    "electricpowers = [57,175,95,250,57,189]\n",
    "Vdots = [9.2,28,9.5,47.6,9.2,27.3]\n",
    "pressures = [7]*6\n",
    "\n",
    "print(electricpowers,Vdots,pressures)"
   ]
  },
  {
   "cell_type": "code",
   "execution_count": 10,
   "id": "1c86731d-44d6-4d5c-be08-e2b215b0a397",
   "metadata": {},
   "outputs": [
    {
     "name": "stdout",
     "output_type": "stream",
     "text": [
      "[0.16140350877192983, 0.16, 0.1, 0.1904, 0.16140350877192983, 0.14444444444444443]\n"
     ]
    }
   ],
   "source": [
    "etas = []\n",
    "for i in range(6):\n",
    "    etas.append(etacalc(electricpowers[i],Vdots[i],pressures[i]))\n",
    "print(etas)"
   ]
  },
  {
   "cell_type": "code",
   "execution_count": 19,
   "id": "c1a81453-caa1-4eec-956d-bcd0f4fa5f33",
   "metadata": {},
   "outputs": [],
   "source": [
    "def volumeflowcalc(P,eta,p):\n",
    "    '''\n",
    "    takes values in kW, bar\n",
    "    returns values in cm/min\n",
    "    '''\n",
    "    return (P*1000)*eta/((p-1)*10000)*60"
   ]
  },
  {
   "cell_type": "code",
   "execution_count": 20,
   "id": "509850ac-06c7-4b02-bb78-9a80f93d0478",
   "metadata": {},
   "outputs": [
    {
     "name": "stdout",
     "output_type": "stream",
     "text": [
      "9.2\n",
      "28.0\n",
      "9.5\n",
      "47.6\n",
      "9.2\n",
      "27.299999999999997\n"
     ]
    }
   ],
   "source": [
    "for i in range(6):\n",
    "    print(volumeflowcalc(electricpowers[i],etas[i],pressures[i]))"
   ]
  },
  {
   "cell_type": "code",
   "execution_count": 3,
   "id": "66af835c-889b-4b32-bf38-15144c5d3c47",
   "metadata": {},
   "outputs": [
    {
     "name": "stdout",
     "output_type": "stream",
     "text": [
      "0.17692307692307693\n"
     ]
    }
   ],
   "source": [
    "p15 = 7\n",
    "P15 = 130\n",
    "Vdot15 = 23\n",
    "eta15 = etacalc(P15,Vdot15,p15)\n",
    "print(eta15)"
   ]
  },
  {
   "cell_type": "code",
   "execution_count": 4,
   "id": "a0b7bec4-4069-46ee-ac80-5fef080b7791",
   "metadata": {},
   "outputs": [
    {
     "name": "stdout",
     "output_type": "stream",
     "text": [
      "0.164\n"
     ]
    }
   ],
   "source": [
    "p13 = 7\n",
    "P13 = 250\n",
    "Vdot13 = 41\n",
    "eta13 = etacalc(P13,Vdot13,p13)\n",
    "print(eta13)"
   ]
  }
 ],
 "metadata": {
  "kernelspec": {
   "display_name": "Python 3 (ipykernel)",
   "language": "python",
   "name": "python3"
  },
  "language_info": {
   "codemirror_mode": {
    "name": "ipython",
    "version": 3
   },
   "file_extension": ".py",
   "mimetype": "text/x-python",
   "name": "python",
   "nbconvert_exporter": "python",
   "pygments_lexer": "ipython3",
   "version": "3.12.0"
  }
 },
 "nbformat": 4,
 "nbformat_minor": 5
}
