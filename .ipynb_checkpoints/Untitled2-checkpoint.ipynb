{
 "cells": [
  {
   "cell_type": "code",
   "execution_count": 1,
   "id": "6b4ee644-5cef-472a-a21d-92499707ddfd",
   "metadata": {},
   "outputs": [
    {
     "name": "stdout",
     "output_type": "stream",
     "text": [
      "WARNING:tensorflow:From C:\\Users\\jnicklau\\AppData\\Local\\miniforge3\\envs\\test_rnn_tf\\lib\\site-packages\\keras\\src\\losses.py:2976: The name tf.losses.sparse_softmax_cross_entropy is deprecated. Please use tf.compat.v1.losses.sparse_softmax_cross_entropy instead.\n",
      "\n"
     ]
    }
   ],
   "source": [
    "import numpy as np\n",
    "import tensorflow as tf\n",
    "from tensorflow.keras.models import Sequential\n",
    "from tensorflow.keras.layers import LSTM, Dense"
   ]
  },
  {
   "cell_type": "code",
   "execution_count": 25,
   "id": "e263db32-3dab-4754-8a65-3d1e01cacff2",
   "metadata": {},
   "outputs": [],
   "source": [
    "# Example data for regression\n",
    "np.random.seed(10)\n",
    "num_samples = 100\n",
    "timesteps = 5\n",
    "features = 1"
   ]
  },
  {
   "cell_type": "code",
   "execution_count": 26,
   "id": "751a2752-f88e-4f8b-aa28-77fd4dc1c798",
   "metadata": {},
   "outputs": [],
   "source": [
    "X = np.random.rand(num_samples, timesteps, features)\n",
    "y = np.cos(np.linspace(0, 5 * np.pi, timesteps)).reshape(-1, 1)"
   ]
  },
  {
   "cell_type": "code",
   "execution_count": 21,
   "id": "e87e1282-d5b0-46aa-aa4b-23ceffb7568a",
   "metadata": {},
   "outputs": [
    {
     "name": "stdout",
     "output_type": "stream",
     "text": [
      "[[[0.77132064]\n",
      "  [0.02075195]\n",
      "  [0.63364823]\n",
      "  [0.74880388]\n",
      "  [0.49850701]]\n",
      "\n",
      " [[0.22479665]\n",
      "  [0.19806286]\n",
      "  [0.76053071]\n",
      "  [0.16911084]\n",
      "  [0.08833981]]\n",
      "\n",
      " [[0.68535982]\n",
      "  [0.95339335]\n",
      "  [0.00394827]\n",
      "  [0.51219226]\n",
      "  [0.81262096]]\n",
      "\n",
      " [[0.61252607]\n",
      "  [0.72175532]\n",
      "  [0.29187607]\n",
      "  [0.91777412]\n",
      "  [0.71457578]]\n",
      "\n",
      " [[0.54254437]\n",
      "  [0.14217005]\n",
      "  [0.37334076]\n",
      "  [0.67413362]\n",
      "  [0.44183317]]\n",
      "\n",
      " [[0.43401399]\n",
      "  [0.61776698]\n",
      "  [0.51313824]\n",
      "  [0.65039718]\n",
      "  [0.60103895]]\n",
      "\n",
      " [[0.8052232 ]\n",
      "  [0.52164715]\n",
      "  [0.90864888]\n",
      "  [0.31923609]\n",
      "  [0.09045935]]\n",
      "\n",
      " [[0.30070006]\n",
      "  [0.11398436]\n",
      "  [0.82868133]\n",
      "  [0.04689632]\n",
      "  [0.62628715]]\n",
      "\n",
      " [[0.54758616]\n",
      "  [0.819287  ]\n",
      "  [0.19894754]\n",
      "  [0.8568503 ]\n",
      "  [0.35165264]]\n",
      "\n",
      " [[0.75464769]\n",
      "  [0.29596171]\n",
      "  [0.88393648]\n",
      "  [0.32551164]\n",
      "  [0.1650159 ]]\n",
      "\n",
      " [[0.39252924]\n",
      "  [0.09346037]\n",
      "  [0.82110566]\n",
      "  [0.15115202]\n",
      "  [0.38411445]]\n",
      "\n",
      " [[0.94426071]\n",
      "  [0.98762547]\n",
      "  [0.45630455]\n",
      "  [0.82612284]\n",
      "  [0.25137413]]\n",
      "\n",
      " [[0.59737165]\n",
      "  [0.90283176]\n",
      "  [0.53455795]\n",
      "  [0.59020136]\n",
      "  [0.03928177]]\n",
      "\n",
      " [[0.35718176]\n",
      "  [0.07961309]\n",
      "  [0.30545992]\n",
      "  [0.33071931]\n",
      "  [0.7738303 ]]\n",
      "\n",
      " [[0.03995921]\n",
      "  [0.42949218]\n",
      "  [0.31492687]\n",
      "  [0.63649114]\n",
      "  [0.34634715]]\n",
      "\n",
      " [[0.04309736]\n",
      "  [0.87991517]\n",
      "  [0.76324059]\n",
      "  [0.87809664]\n",
      "  [0.41750914]]\n",
      "\n",
      " [[0.60557756]\n",
      "  [0.51346663]\n",
      "  [0.59783665]\n",
      "  [0.26221566]\n",
      "  [0.30087131]]\n",
      "\n",
      " [[0.02539978]\n",
      "  [0.30306256]\n",
      "  [0.24207588]\n",
      "  [0.55757819]\n",
      "  [0.56550702]]\n",
      "\n",
      " [[0.47513225]\n",
      "  [0.29279798]\n",
      "  [0.06425106]\n",
      "  [0.97881915]\n",
      "  [0.33970784]]\n",
      "\n",
      " [[0.49504863]\n",
      "  [0.97708073]\n",
      "  [0.44077382]\n",
      "  [0.31827281]\n",
      "  [0.51979699]]]\n"
     ]
    }
   ],
   "source": [
    "print(X)"
   ]
  },
  {
   "cell_type": "code",
   "execution_count": 22,
   "id": "9b66b92a-e7b5-4f62-8ff3-b7d5a4c957e4",
   "metadata": {},
   "outputs": [
    {
     "name": "stdout",
     "output_type": "stream",
     "text": [
      "[[ 1.00000000e+00]\n",
      " [-7.07106781e-01]\n",
      " [ 3.06161700e-16]\n",
      " [ 7.07106781e-01]\n",
      " [-1.00000000e+00]]\n"
     ]
    }
   ],
   "source": [
    "print(y)"
   ]
  },
  {
   "cell_type": "code",
   "execution_count": 23,
   "id": "27b98bb7-48c0-4343-b3f5-1d55b72300ed",
   "metadata": {},
   "outputs": [
    {
     "name": "stdout",
     "output_type": "stream",
     "text": [
      "WARNING:tensorflow:From C:\\Users\\jnicklau\\AppData\\Local\\miniforge3\\envs\\test_rnn_tf\\lib\\site-packages\\keras\\src\\backend.py:873: The name tf.get_default_graph is deprecated. Please use tf.compat.v1.get_default_graph instead.\n",
      "\n",
      "WARNING:tensorflow:From C:\\Users\\jnicklau\\AppData\\Local\\miniforge3\\envs\\test_rnn_tf\\lib\\site-packages\\keras\\src\\optimizers\\__init__.py:309: The name tf.train.Optimizer is deprecated. Please use tf.compat.v1.train.Optimizer instead.\n",
      "\n",
      "Model: \"sequential\"\n",
      "_________________________________________________________________\n",
      " Layer (type)                Output Shape              Param #   \n",
      "=================================================================\n",
      " lstm (LSTM)                 (None, 50)                10400     \n",
      "                                                                 \n",
      " dense (Dense)               (None, 1)                 51        \n",
      "                                                                 \n",
      "=================================================================\n",
      "Total params: 10451 (40.82 KB)\n",
      "Trainable params: 10451 (40.82 KB)\n",
      "Non-trainable params: 0 (0.00 Byte)\n",
      "_________________________________________________________________\n"
     ]
    }
   ],
   "source": [
    "# Build the LSTM model for regression\n",
    "model = Sequential()\n",
    "\n",
    "# Add an LSTM layer with 50 units\n",
    "model.add(LSTM(units=50, input_shape=(timesteps, features)))\n",
    "\n",
    "# Add a Dense output layer with 1 unit (for regression, no activation function)\n",
    "model.add(Dense(units=1))\n",
    "\n",
    "# Compile the model for regression (use mean squared error loss)\n",
    "model.compile(optimizer='adam', loss='mean_squared_error')\n",
    "\n",
    "# Print a summary of the model architecture\n",
    "model.summary()"
   ]
  },
  {
   "cell_type": "code",
   "execution_count": 24,
   "id": "dd66ffc0-3e93-49f4-a845-81cbaa8e077d",
   "metadata": {},
   "outputs": [
    {
     "ename": "ValueError",
     "evalue": "Data cardinality is ambiguous:\n  x sizes: 20\n  y sizes: 5\nMake sure all arrays contain the same number of samples.",
     "output_type": "error",
     "traceback": [
      "\u001b[1;31m---------------------------------------------------------------------------\u001b[0m",
      "\u001b[1;31mValueError\u001b[0m                                Traceback (most recent call last)",
      "Cell \u001b[1;32mIn[24], line 2\u001b[0m\n\u001b[0;32m      1\u001b[0m \u001b[38;5;66;03m# Train the model\u001b[39;00m\n\u001b[1;32m----> 2\u001b[0m \u001b[43mmodel\u001b[49m\u001b[38;5;241;43m.\u001b[39;49m\u001b[43mfit\u001b[49m\u001b[43m(\u001b[49m\u001b[43mX\u001b[49m\u001b[43m,\u001b[49m\u001b[43m \u001b[49m\u001b[43my\u001b[49m\u001b[43m,\u001b[49m\u001b[43m \u001b[49m\u001b[43mepochs\u001b[49m\u001b[38;5;241;43m=\u001b[39;49m\u001b[38;5;241;43m10\u001b[39;49m\u001b[43m,\u001b[49m\u001b[43m \u001b[49m\u001b[43mbatch_size\u001b[49m\u001b[38;5;241;43m=\u001b[39;49m\u001b[38;5;241;43m32\u001b[39;49m\u001b[43m)\u001b[49m\n",
      "File \u001b[1;32m~\\AppData\\Local\\miniforge3\\envs\\test_rnn_tf\\lib\\site-packages\\keras\\src\\utils\\traceback_utils.py:70\u001b[0m, in \u001b[0;36mfilter_traceback.<locals>.error_handler\u001b[1;34m(*args, **kwargs)\u001b[0m\n\u001b[0;32m     67\u001b[0m     filtered_tb \u001b[38;5;241m=\u001b[39m _process_traceback_frames(e\u001b[38;5;241m.\u001b[39m__traceback__)\n\u001b[0;32m     68\u001b[0m     \u001b[38;5;66;03m# To get the full stack trace, call:\u001b[39;00m\n\u001b[0;32m     69\u001b[0m     \u001b[38;5;66;03m# `tf.debugging.disable_traceback_filtering()`\u001b[39;00m\n\u001b[1;32m---> 70\u001b[0m     \u001b[38;5;28;01mraise\u001b[39;00m e\u001b[38;5;241m.\u001b[39mwith_traceback(filtered_tb) \u001b[38;5;28;01mfrom\u001b[39;00m \u001b[38;5;28;01mNone\u001b[39;00m\n\u001b[0;32m     71\u001b[0m \u001b[38;5;28;01mfinally\u001b[39;00m:\n\u001b[0;32m     72\u001b[0m     \u001b[38;5;28;01mdel\u001b[39;00m filtered_tb\n",
      "File \u001b[1;32m~\\AppData\\Local\\miniforge3\\envs\\test_rnn_tf\\lib\\site-packages\\keras\\src\\engine\\data_adapter.py:1960\u001b[0m, in \u001b[0;36m_check_data_cardinality\u001b[1;34m(data)\u001b[0m\n\u001b[0;32m   1953\u001b[0m     msg \u001b[38;5;241m+\u001b[39m\u001b[38;5;241m=\u001b[39m \u001b[38;5;124m\"\u001b[39m\u001b[38;5;124m  \u001b[39m\u001b[38;5;132;01m{}\u001b[39;00m\u001b[38;5;124m sizes: \u001b[39m\u001b[38;5;132;01m{}\u001b[39;00m\u001b[38;5;130;01m\\n\u001b[39;00m\u001b[38;5;124m\"\u001b[39m\u001b[38;5;241m.\u001b[39mformat(\n\u001b[0;32m   1954\u001b[0m         label,\n\u001b[0;32m   1955\u001b[0m         \u001b[38;5;124m\"\u001b[39m\u001b[38;5;124m, \u001b[39m\u001b[38;5;124m\"\u001b[39m\u001b[38;5;241m.\u001b[39mjoin(\n\u001b[0;32m   1956\u001b[0m             \u001b[38;5;28mstr\u001b[39m(i\u001b[38;5;241m.\u001b[39mshape[\u001b[38;5;241m0\u001b[39m]) \u001b[38;5;28;01mfor\u001b[39;00m i \u001b[38;5;129;01min\u001b[39;00m tf\u001b[38;5;241m.\u001b[39mnest\u001b[38;5;241m.\u001b[39mflatten(single_data)\n\u001b[0;32m   1957\u001b[0m         ),\n\u001b[0;32m   1958\u001b[0m     )\n\u001b[0;32m   1959\u001b[0m msg \u001b[38;5;241m+\u001b[39m\u001b[38;5;241m=\u001b[39m \u001b[38;5;124m\"\u001b[39m\u001b[38;5;124mMake sure all arrays contain the same number of samples.\u001b[39m\u001b[38;5;124m\"\u001b[39m\n\u001b[1;32m-> 1960\u001b[0m \u001b[38;5;28;01mraise\u001b[39;00m \u001b[38;5;167;01mValueError\u001b[39;00m(msg)\n",
      "\u001b[1;31mValueError\u001b[0m: Data cardinality is ambiguous:\n  x sizes: 20\n  y sizes: 5\nMake sure all arrays contain the same number of samples."
     ]
    }
   ],
   "source": [
    "# Train the model\n",
    "model.fit(X, y, epochs=10, batch_size=5)"
   ]
  }
 ],
 "metadata": {
  "kernelspec": {
   "display_name": "Python 3 (ipykernel)",
   "language": "python",
   "name": "python3"
  },
  "language_info": {
   "codemirror_mode": {
    "name": "ipython",
    "version": 3
   },
   "file_extension": ".py",
   "mimetype": "text/x-python",
   "name": "python",
   "nbconvert_exporter": "python",
   "pygments_lexer": "ipython3",
   "version": "3.10.13"
  }
 },
 "nbformat": 4,
 "nbformat_minor": 5
}
