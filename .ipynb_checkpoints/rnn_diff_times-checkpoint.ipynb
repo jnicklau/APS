{
 "cells": [
  {
   "cell_type": "code",
   "execution_count": 2,
   "id": "5c8c2f7f-d515-4b9b-a064-f38ec77a9955",
   "metadata": {},
   "outputs": [
    {
     "name": "stdout",
     "output_type": "stream",
     "text": [
      "WARNING:tensorflow:From C:\\Users\\jnicklau\\AppData\\Local\\miniforge3\\envs\\test_rnn_tf\\lib\\site-packages\\keras\\src\\losses.py:2976: The name tf.losses.sparse_softmax_cross_entropy is deprecated. Please use tf.compat.v1.losses.sparse_softmax_cross_entropy instead.\n",
      "\n"
     ]
    }
   ],
   "source": [
    "import tensorflow as tf\n",
    "from tensorflow.keras.models import Sequential\n",
    "from tensorflow.keras.layers import SimpleRNN, Dense, Masking\n",
    "import numpy as np"
   ]
  },
  {
   "cell_type": "code",
   "execution_count": 11,
   "id": "d7216a46-e27e-47b5-8b24-7eb3bbb2fc84",
   "metadata": {},
   "outputs": [
    {
     "name": "stdout",
     "output_type": "stream",
     "text": [
      "(11, 1)\n",
      "()\n"
     ]
    }
   ],
   "source": [
    "# Generate some sample data with varying sequence lengths\n",
    "np.random.seed(42)\n",
    "n_samples = 1000\n",
    "\n",
    "# Create input sequences with varying lengths\n",
    "X = [np.random.random((np.random.randint(5, 15), 1)) for i in range(n_samples)]\n",
    "print(X[0].shape)\n",
    "# Create output sequences with varying lengths\n",
    "y = [np.sum(seq) for seq in X]\n",
    "print(y[0].shape)"
   ]
  },
  {
   "cell_type": "code",
   "execution_count": null,
   "id": "ea117bab-9e23-43d9-a084-8f273336eb1a",
   "metadata": {},
   "outputs": [],
   "source": [
    "# Pad sequences to the maximum length\n",
    "X_padded = tf.keras.preprocessing.sequence.pad_sequences(X, padding='post', dtype='float32')\n",
    "y_padded = np.array(y)\n",
    "\n",
    "# Build the RNN model\n",
    "model = Sequential()\n",
    "\n",
    "# Add a Masking layer to handle variable sequence lengths\n",
    "model.add(Masking(mask_value=0.0, input_shape=(None, 1)))\n",
    "\n",
    "# Add a SimpleRNN layer with 50 units\n",
    "model.add(SimpleRNN(units=50, activation='relu'))\n",
    "\n",
    "# Add a Dense layer with one output unit (for regression problems)\n",
    "model.add(Dense(units=1))\n",
    "\n",
    "# Compile the model\n",
    "model.compile(optimizer='adam', loss='mean_squared_error')\n",
    "\n",
    "# Print the model summary\n",
    "model.summary()\n",
    "\n",
    "# Train the model\n",
    "model.fit(X_padded, y_padded, epochs=10, batch_size=32)\n",
    "\n",
    "# Make predictions\n",
    "predictions = model.predict(X_padded)\n",
    "\n",
    "# Evaluate the model (optional)\n",
    "loss = model.evaluate(X_padded, y_padded)\n",
    "print(f\"Mean Squared Error on Training Data: {loss}\")"
   ]
  }
 ],
 "metadata": {
  "kernelspec": {
   "display_name": "Python 3 (ipykernel)",
   "language": "python",
   "name": "python3"
  },
  "language_info": {
   "codemirror_mode": {
    "name": "ipython",
    "version": 3
   },
   "file_extension": ".py",
   "mimetype": "text/x-python",
   "name": "python",
   "nbconvert_exporter": "python",
   "pygments_lexer": "ipython3",
   "version": "3.10.0"
  }
 },
 "nbformat": 4,
 "nbformat_minor": 5
}
